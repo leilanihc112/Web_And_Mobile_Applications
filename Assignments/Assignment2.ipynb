{
 "cells": [
  {
   "cell_type": "code",
   "execution_count": 154,
   "id": "1c531d92",
   "metadata": {
    "scrolled": true
   },
   "outputs": [],
   "source": [
    "''' \n",
    "    Assignment 2\n",
    "    2-21-22\n",
    "    \n",
    "    1. In Java, a base Shape class would be created with a draw method. A\n",
    "       class called Circle that extends Shape and another class called\n",
    "       Square that also extends Shape would be created, each overriding the\n",
    "       \"draw\" method. To call the draw method for each shape could be\n",
    "       done similarly to the Python method. An array using upcasting could\n",
    "       be created and references to the Circle and Square classes are stored\n",
    "       in the array and are upcast to Shape. This would cause the overridden\n",
    "       draw method to be called for each Shape.\n",
    "       In Python, shared behavior does not require a base Shape class like\n",
    "       Java does.\n",
    "       Python supports single and multiple inheritances. However, with this\n",
    "       comes the \"diamond problem.\" This is an issue of ambiguity where class\n",
    "       B and C both inherit from class A, and class D inherits from both\n",
    "       class B and class C. If D calls a method from A (and does not override\n",
    "       it), but both B and C have overridden that method differently, then\n",
    "       which method does D use: B or C? Since Java only supports partial\n",
    "       multiple inheritance through usage of interfaces and will throw a\n",
    "       compiler error if the diamond problem is encountered, there is less\n",
    "       of a chance of this ambiguity occurring.\n",
    "       \n",
    "    2a.\n",
    "'''\n",
    "\n",
    "class Student:\n",
    "    ''' Student class with name, GPA, and age '''\n",
    "    name = \"\"\n",
    "    gpa = 0.0\n",
    "    age = 0\n",
    "    \n",
    "    def __init__(self, name: str, gpa: float, age: int):\n",
    "        ''' Initialize Student instance '''\n",
    "        self.name = name\n",
    "        self.gpa = gpa\n",
    "        self.age = age\n",
    "\n",
    "    def __str__(self) -> str:\n",
    "        ''' Return class as a string '''\n",
    "        # https://www.educative.io/edpresso/what-is-the-str-method-in-python\n",
    "        return \"Student(name=\" + str(self.name) + \", GPA=\" + str(self.gpa) + \\\n",
    "        \", age=\" + str(self.age) + \")\"\n",
    "        \n",
    "    def __lt__(self, other: Student) -> bool:\n",
    "        ''' Return whether class instance is less than another instance of\n",
    "            the same class type '''\n",
    "        # https://stackoverflow.com/questions/10502301/in-python-how-would-i-compare-with-multiple-values-using-custom-keys\n",
    "        return (self.name, self.gpa, self.age) < (other.name, other.gpa, other.age)\n",
    "        \n",
    "    def __eq__(self, other: Student) -> bool:\n",
    "        ''' Return whether class instance is equal to the passed in instance '''\n",
    "        # https://stackoverflow.com/questions/10502301/in-python-how-would-i-compare-with-multiple-values-using-custom-keys\n",
    "        return (self.name, self.gpa, self.age) == (other.name, other.gpa, other.age)\n",
    "\n",
    "    def __hash__(self) -> int:\n",
    "        ''' Returns the hash value of the class instance '''\n",
    "        # https://stackoverflow.com/questions/10502301/in-python-how-would-i-compare-with-multiple-values-using-custom-keys\n",
    "        return hash((self.name, self.gpa, self.age))"
   ]
  },
  {
   "cell_type": "code",
   "execution_count": 155,
   "id": "2eddc28c",
   "metadata": {},
   "outputs": [
    {
     "name": "stdout",
     "output_type": "stream",
     "text": [
      "Student(name=Albert, GPA=3.5, age=12)\n",
      "Student(name=Joy, GPA=4.0, age=13)\n",
      "Student(name=Maria, GPA=2.8, age=15)\n"
     ]
    }
   ],
   "source": [
    "''' 2b. '''\n",
    "test_dict = {Student('Albert', 3.5, 12): 1, Student('Joy', 4.0, 13): 2, \n",
    "             Student('Albert', 3.5, 12): 3, Student('Maria', 2.8, 15): 4}\n",
    "sorted_list = sorted(test_dict.keys())\n",
    "for student in sorted_list:\n",
    "    print(student)"
   ]
  },
  {
   "cell_type": "code",
   "execution_count": 156,
   "id": "25881e33",
   "metadata": {},
   "outputs": [
    {
     "name": "stdout",
     "output_type": "stream",
     "text": [
      "Student(name=Maria, GPA=2.8, age=15)\n",
      "Student(name=Sarah, GPA=2.8, age=15)\n",
      "Student(name=Albert, GPA=3.5, age=12)\n",
      "Student(name=Joy, GPA=4.0, age=11)\n",
      "Student(name=Joy, GPA=4.0, age=13)\n"
     ]
    }
   ],
   "source": [
    "''' 2c. '''\n",
    "test_list = [Student('Albert', 3.5, 12), Student('Joy', 4.0, 13), Student('Maria', 2.8, 15), Student('Joy', 4.0, 11), Student('Sarah', 2.8, 15)]\n",
    "test_list.sort(key=lambda x: (x.gpa, x.name, x.age))\n",
    "for student in test_list:\n",
    "    print(student)"
   ]
  },
  {
   "cell_type": "code",
   "execution_count": 33,
   "id": "04b86e32",
   "metadata": {
    "scrolled": true
   },
   "outputs": [
    {
     "name": "stdout",
     "output_type": "stream",
     "text": [
      "10 ms ± 333 µs per loop (mean ± std. dev. of 7 runs, 100 loops each)\n"
     ]
    }
   ],
   "source": [
    "''' 3. I grabbed an array size and timed only the sort after generating\n",
    "       the array of random floats from 0 to 1. I tried different numbers\n",
    "       (using similar to a typical binary search algorithm) until I got \n",
    "       close to the interval I was looking for. '''\n",
    "import numpy\n",
    "\n",
    "# 10ms\n",
    "array_size = 1040100\n",
    "random_floats = numpy.random.uniform(0, 1, array_size)\n",
    "%timeit random_floats.sort()"
   ]
  },
  {
   "cell_type": "code",
   "execution_count": 68,
   "id": "ae03270b",
   "metadata": {},
   "outputs": [
    {
     "name": "stdout",
     "output_type": "stream",
     "text": [
      "99.9 ms ± 3.34 ms per loop (mean ± std. dev. of 7 runs, 100 loops each)\n"
     ]
    }
   ],
   "source": [
    "# 100ms\n",
    "array_size = 8100000\n",
    "random_floats = numpy.random.uniform(0, 1, array_size)\n",
    "%timeit -n100 random_floats.sort()"
   ]
  },
  {
   "cell_type": "code",
   "execution_count": 156,
   "id": "8c922af8",
   "metadata": {},
   "outputs": [
    {
     "name": "stdout",
     "output_type": "stream",
     "text": [
      "1.07 s ± 7.23 ms per loop (mean ± std. dev. of 7 runs, 1 loop each)\n"
     ]
    }
   ],
   "source": [
    "# 1s\n",
    "array_size = 74000000\n",
    "random_floats = numpy.random.uniform(0, 1, array_size)\n",
    "%timeit random_floats.sort()"
   ]
  },
  {
   "cell_type": "code",
   "execution_count": 1,
   "id": "70f36646",
   "metadata": {},
   "outputs": [],
   "source": [
    "''' 4.  Original Program to Debug: '''\n",
    "# from Adam Barr's wonderful book \"Find the Bug\"\n",
    "\n",
    "''' This function draws a card from a deck and puts it into a hand. It is\n",
    "meant to be part of the game Go Fish, so if the resulting hand has all four \n",
    "suits for a given card rank, those four cards are removed from the hand. \n",
    "Cards are identified by their rank and suit: the rank is one of the elements\n",
    "in the list [\"2\", \"3\", \"4\", \"5\", \"6\", \"7\", \"8\", \"9\", \"10\", \"J\", \"Q\", \"K\", \"A\"]\n",
    "and the suit is one of the elements of the list [\"spades\", \"hearts\", \"diamonds\", \"clubs\"].\n",
    "A deck is a list that initially contains 52 elements. Each element of the list\n",
    "is a tuple with two elements: the rank and the suit. So a single entry\n",
    "in the deck might be the tuple (\"K\", \"spades\"), which is the king of spades.\n",
    "A hand is a dictionary. In each element of the dictionary, the key is\n",
    "the rank and the value is a list that contains the names of the suits that the hand\n",
    "holds for that rank. E.g., if a hand as the 3 of spades and the 3 of hearts, and\n",
    "no other 3s, then the key \"3\" has the value [\"spades\", \"hearts\"]. A key should not\n",
    "have an empty list associated with it - if no cards of a given rank are held,\n",
    "no value exists for that key.'''\n",
    "import random\n",
    "\n",
    "def getCard(deck):\n",
    "\n",
    "  ''' Randomly remove a single card from the deck and return it. Assumes that the deck \n",
    "      is not empty.\n",
    "      deck: A deck as described above\n",
    "      Returns: a single card, which is a tuple with two elements, the rank and the suit\n",
    "  '''\n",
    "\n",
    "  index = int (len(deck) * random.random())\n",
    "  newCard = deck[index]\n",
    "  del deck[index]\n",
    "  return newCard\n",
    "\n",
    "def drawCard(name, deck, hand):\n",
    "\n",
    "  ''' Draw a new card from the deck and add it to the hand. If the hand now holds the rank\n",
    "      in all four suits, then remove them from the hand.\n",
    "      name: A string with the name of the playerHand, used only for display purposes.\n",
    "      deck: A deck as described above\n",
    "      hand: A hand dictionary as described above\n",
    "      Returns: None.\n",
    "  '''\n",
    "\n",
    "  if len(deck) > 0: # protect against empty deck\n",
    "    newCard = getCard(deck)\n",
    "    cardRank = newCard[0]\n",
    "    cardSuit = newCard[1]\n",
    "\n",
    "    if cardRank in hand:\n",
    "      # append this suit to the result\n",
    "      hand[cardRank].append(cardSuit)\n",
    "      if len(hand) == 4:\n",
    "        print(name, \"lay down\", cardRank + \"s\")\n",
    "        del hand[cardRank]\n",
    "\n",
    "    else:\n",
    "      # first of this suit, create a list with one element\n",
    "      hand[cardRank] =  [ cardSuit ]"
   ]
  },
  {
   "cell_type": "code",
   "execution_count": 3,
   "id": "2289f7fa",
   "metadata": {},
   "outputs": [],
   "source": [
    "def test_1():\n",
    "    ''' Test that card is put in hand and removed from the card deck '''\n",
    "    card_deck = [(\"2\", \"spades\"), (\"2\", \"hearts\"), (\"2\", \"diamonds\"), (\"2\", \"clubs\"),\n",
    "             (\"3\", \"spades\"), (\"3\", \"hearts\"), (\"3\", \"diamonds\"), (\"3\", \"clubs\"),\n",
    "             (\"4\", \"spades\"), (\"4\", \"hearts\"), (\"4\", \"diamonds\"), (\"4\", \"clubs\"),\n",
    "             (\"5\", \"spades\"), (\"5\", \"hearts\"), (\"5\", \"diamonds\"), (\"5\", \"clubs\"),\n",
    "             (\"6\", \"spades\"), (\"6\", \"hearts\"), (\"6\", \"diamonds\"), (\"6\", \"clubs\"),\n",
    "             (\"7\", \"spades\"), (\"7\", \"hearts\"), (\"7\", \"diamonds\"), (\"7\", \"clubs\"),\n",
    "             (\"8\", \"spades\"), (\"8\", \"hearts\"), (\"8\", \"diamonds\"), (\"8\", \"clubs\"),\n",
    "             (\"9\", \"spades\"), (\"9\", \"hearts\"), (\"9\", \"diamonds\"), (\"9\", \"clubs\"),\n",
    "             (\"10\", \"spades\"), (\"10\", \"hearts\"), (\"10\", \"diamonds\"), (\"10\", \"clubs\"),\n",
    "             (\"J\", \"spades\"), (\"J\", \"hearts\"), (\"J\", \"diamonds\"), (\"J\", \"clubs\"),\n",
    "             (\"Q\", \"spades\"), (\"Q\", \"hearts\"), (\"Q\", \"diamonds\"), (\"Q\", \"clubs\"),\n",
    "             (\"K\", \"spades\"), (\"K\", \"hearts\"), (\"K\", \"diamonds\"), (\"K\", \"clubs\"),\n",
    "             (\"A\", \"spades\"), (\"A\", \"hearts\"), (\"A\", \"diamonds\"), (\"A\", \"clubs\")]\n",
    "    hand = {}\n",
    "    drawCard(\"Leilani\", card_deck, hand)\n",
    "    # if the card is still in the deck then there was an issue\n",
    "    if list(hand)[0] in card_deck:\n",
    "        # False indicates failure\n",
    "        return False\n",
    "    return True\n",
    "\n",
    "def test_2():\n",
    "    ''' Tests a match is laid out successfully '''\n",
    "    card_deck = [(\"2\", \"spades\"), (\"2\", \"hearts\"), (\"2\", \"diamonds\"), (\"2\", \"clubs\")]\n",
    "    hand = {}\n",
    "    for _ in range(0, 4):\n",
    "        drawCard(\"Leilani\", card_deck, hand)\n",
    "    # if hand is not empty then the four were not laid down\n",
    "    if hand:\n",
    "        print(hand)\n",
    "        # False indicates failure\n",
    "        return False\n",
    "    return True\n",
    "\n",
    "def test_3():\n",
    "    ''' Tests that an entire deck will be laid out in sets successfully '''\n",
    "    card_deck = [(\"2\", \"spades\"), (\"2\", \"hearts\"), (\"2\", \"diamonds\"), (\"2\", \"clubs\"),\n",
    "             (\"3\", \"spades\"), (\"3\", \"hearts\"), (\"3\", \"diamonds\"), (\"3\", \"clubs\"),\n",
    "             (\"4\", \"spades\"), (\"4\", \"hearts\"), (\"4\", \"diamonds\"), (\"4\", \"clubs\"),\n",
    "             (\"5\", \"spades\"), (\"5\", \"hearts\"), (\"5\", \"diamonds\"), (\"5\", \"clubs\"),\n",
    "             (\"6\", \"spades\"), (\"6\", \"hearts\"), (\"6\", \"diamonds\"), (\"6\", \"clubs\"),\n",
    "             (\"7\", \"spades\"), (\"7\", \"hearts\"), (\"7\", \"diamonds\"), (\"7\", \"clubs\"),\n",
    "             (\"8\", \"spades\"), (\"8\", \"hearts\"), (\"8\", \"diamonds\"), (\"8\", \"clubs\"),\n",
    "             (\"9\", \"spades\"), (\"9\", \"hearts\"), (\"9\", \"diamonds\"), (\"9\", \"clubs\"),\n",
    "             (\"10\", \"spades\"), (\"10\", \"hearts\"), (\"10\", \"diamonds\"), (\"10\", \"clubs\"),\n",
    "             (\"J\", \"spades\"), (\"J\", \"hearts\"), (\"J\", \"diamonds\"), (\"J\", \"clubs\"),\n",
    "             (\"Q\", \"spades\"), (\"Q\", \"hearts\"), (\"Q\", \"diamonds\"), (\"Q\", \"clubs\"),\n",
    "             (\"K\", \"spades\"), (\"K\", \"hearts\"), (\"K\", \"diamonds\"), (\"K\", \"clubs\"),\n",
    "             (\"A\", \"spades\"), (\"A\", \"hearts\"), (\"A\", \"diamonds\"), (\"A\", \"clubs\")]\n",
    "    hand = {}\n",
    "    for _ in range(0, 52):\n",
    "        drawCard(\"Leilani\", card_deck, hand)\n",
    "    if hand:\n",
    "        print(hand)\n",
    "        return False\n",
    "    return True"
   ]
  },
  {
   "cell_type": "code",
   "execution_count": 4,
   "id": "60e56b00",
   "metadata": {},
   "outputs": [
    {
     "name": "stdout",
     "output_type": "stream",
     "text": [
      "True\n"
     ]
    }
   ],
   "source": [
    "print(test_1())"
   ]
  },
  {
   "cell_type": "code",
   "execution_count": 5,
   "id": "4ad232a2",
   "metadata": {},
   "outputs": [
    {
     "name": "stdout",
     "output_type": "stream",
     "text": [
      "{'2': ['clubs', 'hearts', 'diamonds', 'spades']}\n",
      "False\n"
     ]
    }
   ],
   "source": [
    "print(test_2())"
   ]
  },
  {
   "cell_type": "code",
   "execution_count": 143,
   "id": "fc5baf71",
   "metadata": {},
   "outputs": [],
   "source": [
    "''' Test 2 failed. The card is not being removed. In fact, it is not registering that there\n",
    "    is a set '''\n",
    "\n",
    "# from Adam Barr's wonderful book \"Find the Bug\"\n",
    "\n",
    "''' This function draws a card from a deck and puts it into a hand. It is\n",
    "meant to be part of the game Go Fish, so if the resulting hand has all four \n",
    "suits for a given card rank, those four cards are removed from the hand. \n",
    "Cards are identified by their rank and suit: the rank is one of the elements\n",
    "in the list [\"2\", \"3\", \"4\", \"5\", \"6\", \"7\", \"8\", \"9\", \"10\", \"J\", \"Q\", \"K\", \"A\"]\n",
    "and the suit is one of the elements of the list [\"spades\", \"hearts\", \"diamonds\", \"clubs\"].\n",
    "A deck is a list that initially contains 52 elements. Each element of the list\n",
    "is a tuple with two elements: the rank and the suit. So a single entry\n",
    "in the deck might be the tuple (\"K\", \"spades\"), which is the king of spades.\n",
    "A hand is a dictionary. In each element of the dictionary, the key is\n",
    "the rank and the value is a list that contains the names of the suits that the hand\n",
    "holds for that rank. E.g., if a hand as the 3 of spades and the 3 of hearts, and\n",
    "no other 3s, then the key \"3\" has the value [\"spades\", \"hearts\"]. A key should not\n",
    "have an empty list associated with it - if no cards of a given rank are held,\n",
    "no value exists for that key.'''\n",
    "# LEILANI DEBUG - import iPython to debug\n",
    "from IPython import embed\n",
    "import random\n",
    "\n",
    "def getCard(deck):\n",
    "\n",
    "  ''' Randomly remove a single card from the deck and return it. Assumes that the deck \n",
    "      is not empty.\n",
    "      deck: A deck as described above\n",
    "      Returns: a single card, which is a tuple with two elements, the rank and the suit\n",
    "  '''\n",
    "\n",
    "  index = int (len(deck) * random.random())\n",
    "  newCard = deck[index]\n",
    "  del deck[index]\n",
    "  return newCard\n",
    "\n",
    "def drawCard(name, deck, hand):\n",
    "\n",
    "  ''' Draw a new card from the deck and add it to the hand. If the hand now holds the rank\n",
    "      in all four suits, then remove them from the hand.\n",
    "      name: A string with the name of the playerHand, used only for display purposes.\n",
    "      deck: A deck as described above\n",
    "      hand: A hand dictionary as described above\n",
    "      Returns: None.\n",
    "  '''\n",
    "\n",
    "  if len(deck) > 0: # protect against empty deck\n",
    "    newCard = getCard(deck)\n",
    "    cardRank = newCard[0]\n",
    "    cardSuit = newCard[1]\n",
    "\n",
    "    if cardRank in hand:\n",
    "      # append this suit to the result\n",
    "      hand[cardRank].append(cardSuit)\n",
    "      # LEILANI DEBUG - insert embed here since there is a problem before we reach the next if statement\n",
    "      embed()\n",
    "      # the length is not going to be 4... the length of the cardSuit will be 4\n",
    "      if len(hand) == 4:\n",
    "        print(name, \"lay down\", cardRank + \"s\")\n",
    "        del hand[cardRank]\n",
    "\n",
    "    else:\n",
    "      # first of this suit, create a list with one element\n",
    "      hand[cardRank] =  [ cardSuit ]"
   ]
  },
  {
   "cell_type": "code",
   "execution_count": 144,
   "id": "86eaa5e8",
   "metadata": {
    "scrolled": true
   },
   "outputs": [
    {
     "name": "stdout",
     "output_type": "stream",
     "text": [
      "Python 3.9.10 (tags/v3.9.10:f2f3f53, Jan 17 2022, 15:14:21) [MSC v.1929 64 bit (AMD64)]\n",
      "Type 'copyright', 'credits' or 'license' for more information\n",
      "IPython 8.0.1 -- An enhanced Interactive Python. Type '?' for help.\n",
      "\n",
      "In [1]: print(hand)\n",
      "{'2': ['clubs', 'spades']}\n",
      "\n",
      "In [2]: print(len(hand))\n",
      "1\n",
      "\n",
      "In [3]: # since hand is a dictionary, we should be looking at the length of the VALUE of 2 (which is the key)\n",
      "\n",
      "In [4]: print(len(hand[cardRank]))\n",
      "2\n",
      "\n",
      "In [5]: exit()\n",
      "\n",
      "Python 3.9.10 (tags/v3.9.10:f2f3f53, Jan 17 2022, 15:14:21) [MSC v.1929 64 bit (AMD64)]\n",
      "Type 'copyright', 'credits' or 'license' for more information\n",
      "IPython 8.0.1 -- An enhanced Interactive Python. Type '?' for help.\n",
      "\n"
     ]
    },
    {
     "ename": "KeyboardInterrupt",
     "evalue": "Interrupted by user",
     "output_type": "error",
     "traceback": [
      "\u001b[1;31m---------------------------------------------------------------------------\u001b[0m",
      "\u001b[1;31mKeyboardInterrupt\u001b[0m                         Traceback (most recent call last)",
      "File \u001b[1;32m~\\AppData\\Local\\Temp\\ipykernel_11060\\2945982255.py:1\u001b[0m, in \u001b[0;36m<module>\u001b[1;34m\u001b[0m\n\u001b[1;32m----> 1\u001b[0m \u001b[38;5;28mprint\u001b[39m(\u001b[43mtest_2\u001b[49m\u001b[43m(\u001b[49m\u001b[43m)\u001b[49m)\n",
      "File \u001b[1;32m~\\AppData\\Local\\Temp\\ipykernel_11060\\2613732847.py:29\u001b[0m, in \u001b[0;36mtest_2\u001b[1;34m()\u001b[0m\n\u001b[0;32m     27\u001b[0m hand \u001b[38;5;241m=\u001b[39m {}\n\u001b[0;32m     28\u001b[0m \u001b[38;5;28;01mfor\u001b[39;00m _ \u001b[38;5;129;01min\u001b[39;00m \u001b[38;5;28mrange\u001b[39m(\u001b[38;5;241m0\u001b[39m, \u001b[38;5;241m4\u001b[39m):\n\u001b[1;32m---> 29\u001b[0m     \u001b[43mdrawCard\u001b[49m\u001b[43m(\u001b[49m\u001b[38;5;124;43m\"\u001b[39;49m\u001b[38;5;124;43mLeilani\u001b[39;49m\u001b[38;5;124;43m\"\u001b[39;49m\u001b[43m,\u001b[49m\u001b[43m \u001b[49m\u001b[43mcard_deck\u001b[49m\u001b[43m,\u001b[49m\u001b[43m \u001b[49m\u001b[43mhand\u001b[49m\u001b[43m)\u001b[49m\n\u001b[0;32m     30\u001b[0m \u001b[38;5;66;03m# if hand is not empty then the four were not laid down\u001b[39;00m\n\u001b[0;32m     31\u001b[0m \u001b[38;5;28;01mif\u001b[39;00m hand:\n",
      "File \u001b[1;32m~\\AppData\\Local\\Temp\\ipykernel_11060\\3971174456.py:57\u001b[0m, in \u001b[0;36mdrawCard\u001b[1;34m(name, deck, hand)\u001b[0m\n\u001b[0;32m     55\u001b[0m hand[cardRank]\u001b[38;5;241m.\u001b[39mappend(cardSuit)\n\u001b[0;32m     56\u001b[0m \u001b[38;5;66;03m# LEILANI DEBUG - insert embed here since there is a problem before we reach the next if statement\u001b[39;00m\n\u001b[1;32m---> 57\u001b[0m \u001b[43membed\u001b[49m\u001b[43m(\u001b[49m\u001b[43m)\u001b[49m\n\u001b[0;32m     58\u001b[0m \u001b[38;5;66;03m# the length is not going to be 4... the length of the cardSuit will be 4\u001b[39;00m\n\u001b[0;32m     59\u001b[0m \u001b[38;5;28;01mif\u001b[39;00m \u001b[38;5;28mlen\u001b[39m(hand) \u001b[38;5;241m==\u001b[39m \u001b[38;5;241m4\u001b[39m:\n",
      "File \u001b[1;32m~\\AppData\\Local\\Packages\\PythonSoftwareFoundation.Python.3.9_qbz5n2kfra8p0\\LocalCache\\local-packages\\Python39\\site-packages\\IPython\\terminal\\embed.py:399\u001b[0m, in \u001b[0;36membed\u001b[1;34m(header, compile_flags, **kwargs)\u001b[0m\n\u001b[0;32m    396\u001b[0m frame \u001b[38;5;241m=\u001b[39m sys\u001b[38;5;241m.\u001b[39m_getframe(\u001b[38;5;241m1\u001b[39m)\n\u001b[0;32m    397\u001b[0m shell \u001b[38;5;241m=\u001b[39m InteractiveShellEmbed\u001b[38;5;241m.\u001b[39minstance(_init_location_id\u001b[38;5;241m=\u001b[39m\u001b[38;5;124m'\u001b[39m\u001b[38;5;132;01m%s\u001b[39;00m\u001b[38;5;124m:\u001b[39m\u001b[38;5;132;01m%s\u001b[39;00m\u001b[38;5;124m'\u001b[39m \u001b[38;5;241m%\u001b[39m (\n\u001b[0;32m    398\u001b[0m     frame\u001b[38;5;241m.\u001b[39mf_code\u001b[38;5;241m.\u001b[39mco_filename, frame\u001b[38;5;241m.\u001b[39mf_lineno), \u001b[38;5;241m*\u001b[39m\u001b[38;5;241m*\u001b[39mkwargs)\n\u001b[1;32m--> 399\u001b[0m \u001b[43mshell\u001b[49m\u001b[43m(\u001b[49m\u001b[43mheader\u001b[49m\u001b[38;5;241;43m=\u001b[39;49m\u001b[43mheader\u001b[49m\u001b[43m,\u001b[49m\u001b[43m \u001b[49m\u001b[43mstack_depth\u001b[49m\u001b[38;5;241;43m=\u001b[39;49m\u001b[38;5;241;43m2\u001b[39;49m\u001b[43m,\u001b[49m\u001b[43m \u001b[49m\u001b[43mcompile_flags\u001b[49m\u001b[38;5;241;43m=\u001b[39;49m\u001b[43mcompile_flags\u001b[49m\u001b[43m,\u001b[49m\n\u001b[0;32m    400\u001b[0m \u001b[43m    \u001b[49m\u001b[43m_call_location_id\u001b[49m\u001b[38;5;241;43m=\u001b[39;49m\u001b[38;5;124;43m'\u001b[39;49m\u001b[38;5;132;43;01m%s\u001b[39;49;00m\u001b[38;5;124;43m:\u001b[39;49m\u001b[38;5;132;43;01m%s\u001b[39;49;00m\u001b[38;5;124;43m'\u001b[39;49m\u001b[43m \u001b[49m\u001b[38;5;241;43m%\u001b[39;49m\u001b[43m \u001b[49m\u001b[43m(\u001b[49m\u001b[43mframe\u001b[49m\u001b[38;5;241;43m.\u001b[39;49m\u001b[43mf_code\u001b[49m\u001b[38;5;241;43m.\u001b[39;49m\u001b[43mco_filename\u001b[49m\u001b[43m,\u001b[49m\u001b[43m \u001b[49m\u001b[43mframe\u001b[49m\u001b[38;5;241;43m.\u001b[39;49m\u001b[43mf_lineno\u001b[49m\u001b[43m)\u001b[49m\u001b[43m)\u001b[49m\n\u001b[0;32m    401\u001b[0m InteractiveShellEmbed\u001b[38;5;241m.\u001b[39mclear_instance()\n\u001b[0;32m    402\u001b[0m \u001b[38;5;66;03m#restore previous instance\u001b[39;00m\n",
      "File \u001b[1;32m~\\AppData\\Local\\Packages\\PythonSoftwareFoundation.Python.3.9_qbz5n2kfra8p0\\LocalCache\\local-packages\\Python39\\site-packages\\IPython\\terminal\\embed.py:245\u001b[0m, in \u001b[0;36mInteractiveShellEmbed.__call__\u001b[1;34m(self, header, local_ns, module, dummy, stack_depth, compile_flags, **kw)\u001b[0m\n\u001b[0;32m    241\u001b[0m     \u001b[38;5;28mself\u001b[39m\u001b[38;5;241m.\u001b[39mshow_banner()\n\u001b[0;32m    243\u001b[0m \u001b[38;5;66;03m# Call the embedding code with a stack depth of 1 so it can skip over\u001b[39;00m\n\u001b[0;32m    244\u001b[0m \u001b[38;5;66;03m# our call and get the original caller's namespaces.\u001b[39;00m\n\u001b[1;32m--> 245\u001b[0m \u001b[38;5;28;43mself\u001b[39;49m\u001b[38;5;241;43m.\u001b[39;49m\u001b[43mmainloop\u001b[49m\u001b[43m(\u001b[49m\n\u001b[0;32m    246\u001b[0m \u001b[43m    \u001b[49m\u001b[43mlocal_ns\u001b[49m\u001b[43m,\u001b[49m\u001b[43m \u001b[49m\u001b[43mmodule\u001b[49m\u001b[43m,\u001b[49m\u001b[43m \u001b[49m\u001b[43mstack_depth\u001b[49m\u001b[38;5;241;43m=\u001b[39;49m\u001b[43mstack_depth\u001b[49m\u001b[43m,\u001b[49m\u001b[43m \u001b[49m\u001b[43mcompile_flags\u001b[49m\u001b[38;5;241;43m=\u001b[39;49m\u001b[43mcompile_flags\u001b[49m\n\u001b[0;32m    247\u001b[0m \u001b[43m\u001b[49m\u001b[43m)\u001b[49m\n\u001b[0;32m    249\u001b[0m \u001b[38;5;28mself\u001b[39m\u001b[38;5;241m.\u001b[39mbanner2 \u001b[38;5;241m=\u001b[39m \u001b[38;5;28mself\u001b[39m\u001b[38;5;241m.\u001b[39mold_banner2\n\u001b[0;32m    251\u001b[0m \u001b[38;5;28;01mif\u001b[39;00m \u001b[38;5;28mself\u001b[39m\u001b[38;5;241m.\u001b[39mexit_msg \u001b[38;5;129;01mis\u001b[39;00m \u001b[38;5;129;01mnot\u001b[39;00m \u001b[38;5;28;01mNone\u001b[39;00m:\n",
      "File \u001b[1;32m~\\AppData\\Local\\Packages\\PythonSoftwareFoundation.Python.3.9_qbz5n2kfra8p0\\LocalCache\\local-packages\\Python39\\site-packages\\IPython\\terminal\\embed.py:337\u001b[0m, in \u001b[0;36mInteractiveShellEmbed.mainloop\u001b[1;34m(self, local_ns, module, stack_depth, compile_flags)\u001b[0m\n\u001b[0;32m    334\u001b[0m \u001b[38;5;28mself\u001b[39m\u001b[38;5;241m.\u001b[39mset_completer_frame()\n\u001b[0;32m    336\u001b[0m \u001b[38;5;28;01mwith\u001b[39;00m \u001b[38;5;28mself\u001b[39m\u001b[38;5;241m.\u001b[39mbuiltin_trap, \u001b[38;5;28mself\u001b[39m\u001b[38;5;241m.\u001b[39mdisplay_trap:\n\u001b[1;32m--> 337\u001b[0m     \u001b[38;5;28;43mself\u001b[39;49m\u001b[38;5;241;43m.\u001b[39;49m\u001b[43minteract\u001b[49m\u001b[43m(\u001b[49m\u001b[43m)\u001b[49m\n\u001b[0;32m    339\u001b[0m \u001b[38;5;66;03m# now, purge out the local namespace of IPython's hidden variables.\u001b[39;00m\n\u001b[0;32m    340\u001b[0m \u001b[38;5;28;01mif\u001b[39;00m local_ns \u001b[38;5;129;01mis\u001b[39;00m \u001b[38;5;129;01mnot\u001b[39;00m \u001b[38;5;28;01mNone\u001b[39;00m:\n",
      "File \u001b[1;32m~\\AppData\\Local\\Packages\\PythonSoftwareFoundation.Python.3.9_qbz5n2kfra8p0\\LocalCache\\local-packages\\Python39\\site-packages\\IPython\\terminal\\interactiveshell.py:596\u001b[0m, in \u001b[0;36mTerminalInteractiveShell.interact\u001b[1;34m(self)\u001b[0m\n\u001b[0;32m    593\u001b[0m \u001b[38;5;28mprint\u001b[39m(\u001b[38;5;28mself\u001b[39m\u001b[38;5;241m.\u001b[39mseparate_in, end\u001b[38;5;241m=\u001b[39m\u001b[38;5;124m'\u001b[39m\u001b[38;5;124m'\u001b[39m)\n\u001b[0;32m    595\u001b[0m \u001b[38;5;28;01mtry\u001b[39;00m:\n\u001b[1;32m--> 596\u001b[0m     code \u001b[38;5;241m=\u001b[39m \u001b[38;5;28;43mself\u001b[39;49m\u001b[38;5;241;43m.\u001b[39;49m\u001b[43mprompt_for_code\u001b[49m\u001b[43m(\u001b[49m\u001b[43m)\u001b[49m\n\u001b[0;32m    597\u001b[0m \u001b[38;5;28;01mexcept\u001b[39;00m \u001b[38;5;167;01mEOFError\u001b[39;00m:\n\u001b[0;32m    598\u001b[0m     \u001b[38;5;28;01mif\u001b[39;00m (\u001b[38;5;129;01mnot\u001b[39;00m \u001b[38;5;28mself\u001b[39m\u001b[38;5;241m.\u001b[39mconfirm_exit) \\\n\u001b[0;32m    599\u001b[0m             \u001b[38;5;129;01mor\u001b[39;00m \u001b[38;5;28mself\u001b[39m\u001b[38;5;241m.\u001b[39mask_yes_no(\u001b[38;5;124m'\u001b[39m\u001b[38;5;124mDo you really want to exit ([y]/n)?\u001b[39m\u001b[38;5;124m'\u001b[39m,\u001b[38;5;124m'\u001b[39m\u001b[38;5;124my\u001b[39m\u001b[38;5;124m'\u001b[39m,\u001b[38;5;124m'\u001b[39m\u001b[38;5;124mn\u001b[39m\u001b[38;5;124m'\u001b[39m):\n",
      "File \u001b[1;32m~\\AppData\\Local\\Packages\\PythonSoftwareFoundation.Python.3.9_qbz5n2kfra8p0\\LocalCache\\local-packages\\Python39\\site-packages\\IPython\\terminal\\interactiveshell.py:348\u001b[0m, in \u001b[0;36mTerminalInteractiveShell.init_prompt_toolkit_cli.<locals>.prompt\u001b[1;34m()\u001b[0m\n\u001b[0;32m    346\u001b[0m \u001b[38;5;28;01mdef\u001b[39;00m \u001b[38;5;21mprompt\u001b[39m():\n\u001b[0;32m    347\u001b[0m     prompt_text \u001b[38;5;241m=\u001b[39m \u001b[38;5;124m\"\u001b[39m\u001b[38;5;124m\"\u001b[39m\u001b[38;5;241m.\u001b[39mjoin(x[\u001b[38;5;241m1\u001b[39m] \u001b[38;5;28;01mfor\u001b[39;00m x \u001b[38;5;129;01min\u001b[39;00m \u001b[38;5;28mself\u001b[39m\u001b[38;5;241m.\u001b[39mprompts\u001b[38;5;241m.\u001b[39min_prompt_tokens())\n\u001b[1;32m--> 348\u001b[0m     lines \u001b[38;5;241m=\u001b[39m [\u001b[38;5;28;43minput\u001b[39;49m\u001b[43m(\u001b[49m\u001b[43mprompt_text\u001b[49m\u001b[43m)\u001b[49m]\n\u001b[0;32m    349\u001b[0m     prompt_continuation \u001b[38;5;241m=\u001b[39m \u001b[38;5;124m\"\u001b[39m\u001b[38;5;124m\"\u001b[39m\u001b[38;5;241m.\u001b[39mjoin(x[\u001b[38;5;241m1\u001b[39m] \u001b[38;5;28;01mfor\u001b[39;00m x \u001b[38;5;129;01min\u001b[39;00m \u001b[38;5;28mself\u001b[39m\u001b[38;5;241m.\u001b[39mprompts\u001b[38;5;241m.\u001b[39mcontinuation_prompt_tokens())\n\u001b[0;32m    350\u001b[0m     \u001b[38;5;28;01mwhile\u001b[39;00m \u001b[38;5;28mself\u001b[39m\u001b[38;5;241m.\u001b[39mcheck_complete(\u001b[38;5;124m'\u001b[39m\u001b[38;5;130;01m\\n\u001b[39;00m\u001b[38;5;124m'\u001b[39m\u001b[38;5;241m.\u001b[39mjoin(lines))[\u001b[38;5;241m0\u001b[39m] \u001b[38;5;241m==\u001b[39m \u001b[38;5;124m'\u001b[39m\u001b[38;5;124mincomplete\u001b[39m\u001b[38;5;124m'\u001b[39m:\n",
      "File \u001b[1;32m~\\AppData\\Local\\Packages\\PythonSoftwareFoundation.Python.3.9_qbz5n2kfra8p0\\LocalCache\\local-packages\\Python39\\site-packages\\IPython\\utils\\py3compat.py:48\u001b[0m, in \u001b[0;36minput\u001b[1;34m(prompt)\u001b[0m\n\u001b[0;32m     47\u001b[0m \u001b[38;5;28;01mdef\u001b[39;00m \u001b[38;5;21minput\u001b[39m(prompt\u001b[38;5;241m=\u001b[39m\u001b[38;5;124m\"\u001b[39m\u001b[38;5;124m\"\u001b[39m):\n\u001b[1;32m---> 48\u001b[0m     \u001b[38;5;28;01mreturn\u001b[39;00m \u001b[43mbuiltin_mod\u001b[49m\u001b[38;5;241;43m.\u001b[39;49m\u001b[43minput\u001b[49m\u001b[43m(\u001b[49m\u001b[43mprompt\u001b[49m\u001b[43m)\u001b[49m\n",
      "File \u001b[1;32m~\\AppData\\Local\\Packages\\PythonSoftwareFoundation.Python.3.9_qbz5n2kfra8p0\\LocalCache\\local-packages\\Python39\\site-packages\\ipykernel\\kernelbase.py:1075\u001b[0m, in \u001b[0;36mKernel.raw_input\u001b[1;34m(self, prompt)\u001b[0m\n\u001b[0;32m   1071\u001b[0m \u001b[38;5;28;01mif\u001b[39;00m \u001b[38;5;129;01mnot\u001b[39;00m \u001b[38;5;28mself\u001b[39m\u001b[38;5;241m.\u001b[39m_allow_stdin:\n\u001b[0;32m   1072\u001b[0m     \u001b[38;5;28;01mraise\u001b[39;00m StdinNotImplementedError(\n\u001b[0;32m   1073\u001b[0m         \u001b[38;5;124m\"\u001b[39m\u001b[38;5;124mraw_input was called, but this frontend does not support input requests.\u001b[39m\u001b[38;5;124m\"\u001b[39m\n\u001b[0;32m   1074\u001b[0m     )\n\u001b[1;32m-> 1075\u001b[0m \u001b[38;5;28;01mreturn\u001b[39;00m \u001b[38;5;28;43mself\u001b[39;49m\u001b[38;5;241;43m.\u001b[39;49m\u001b[43m_input_request\u001b[49m\u001b[43m(\u001b[49m\n\u001b[0;32m   1076\u001b[0m \u001b[43m    \u001b[49m\u001b[38;5;28;43mstr\u001b[39;49m\u001b[43m(\u001b[49m\u001b[43mprompt\u001b[49m\u001b[43m)\u001b[49m\u001b[43m,\u001b[49m\n\u001b[0;32m   1077\u001b[0m \u001b[43m    \u001b[49m\u001b[38;5;28;43mself\u001b[39;49m\u001b[38;5;241;43m.\u001b[39;49m\u001b[43m_parent_ident\u001b[49m\u001b[43m[\u001b[49m\u001b[38;5;124;43m\"\u001b[39;49m\u001b[38;5;124;43mshell\u001b[39;49m\u001b[38;5;124;43m\"\u001b[39;49m\u001b[43m]\u001b[49m\u001b[43m,\u001b[49m\n\u001b[0;32m   1078\u001b[0m \u001b[43m    \u001b[49m\u001b[38;5;28;43mself\u001b[39;49m\u001b[38;5;241;43m.\u001b[39;49m\u001b[43mget_parent\u001b[49m\u001b[43m(\u001b[49m\u001b[38;5;124;43m\"\u001b[39;49m\u001b[38;5;124;43mshell\u001b[39;49m\u001b[38;5;124;43m\"\u001b[39;49m\u001b[43m)\u001b[49m\u001b[43m,\u001b[49m\n\u001b[0;32m   1079\u001b[0m \u001b[43m    \u001b[49m\u001b[43mpassword\u001b[49m\u001b[38;5;241;43m=\u001b[39;49m\u001b[38;5;28;43;01mFalse\u001b[39;49;00m\u001b[43m,\u001b[49m\n\u001b[0;32m   1080\u001b[0m \u001b[43m\u001b[49m\u001b[43m)\u001b[49m\n",
      "File \u001b[1;32m~\\AppData\\Local\\Packages\\PythonSoftwareFoundation.Python.3.9_qbz5n2kfra8p0\\LocalCache\\local-packages\\Python39\\site-packages\\ipykernel\\kernelbase.py:1120\u001b[0m, in \u001b[0;36mKernel._input_request\u001b[1;34m(self, prompt, ident, parent, password)\u001b[0m\n\u001b[0;32m   1117\u001b[0m             \u001b[38;5;28;01mbreak\u001b[39;00m\n\u001b[0;32m   1118\u001b[0m \u001b[38;5;28;01mexcept\u001b[39;00m \u001b[38;5;167;01mKeyboardInterrupt\u001b[39;00m:\n\u001b[0;32m   1119\u001b[0m     \u001b[38;5;66;03m# re-raise KeyboardInterrupt, to truncate traceback\u001b[39;00m\n\u001b[1;32m-> 1120\u001b[0m     \u001b[38;5;28;01mraise\u001b[39;00m \u001b[38;5;167;01mKeyboardInterrupt\u001b[39;00m(\u001b[38;5;124m\"\u001b[39m\u001b[38;5;124mInterrupted by user\u001b[39m\u001b[38;5;124m\"\u001b[39m) \u001b[38;5;28;01mfrom\u001b[39;00m \u001b[38;5;28mNone\u001b[39m\n\u001b[0;32m   1121\u001b[0m \u001b[38;5;28;01mexcept\u001b[39;00m \u001b[38;5;167;01mException\u001b[39;00m:\n\u001b[0;32m   1122\u001b[0m     \u001b[38;5;28mself\u001b[39m\u001b[38;5;241m.\u001b[39mlog\u001b[38;5;241m.\u001b[39mwarning(\u001b[38;5;124m\"\u001b[39m\u001b[38;5;124mInvalid Message:\u001b[39m\u001b[38;5;124m\"\u001b[39m, exc_info\u001b[38;5;241m=\u001b[39m\u001b[38;5;28;01mTrue\u001b[39;00m)\n",
      "\u001b[1;31mKeyboardInterrupt\u001b[0m: Interrupted by user"
     ]
    }
   ],
   "source": [
    "print(test_2())"
   ]
  },
  {
   "cell_type": "code",
   "execution_count": 145,
   "id": "951a6156",
   "metadata": {},
   "outputs": [],
   "source": [
    "''' Fix the bug - change len(hand) to len(hand[cardRank])'''\n",
    "\n",
    "# from Adam Barr's wonderful book \"Find the Bug\"\n",
    "\n",
    "''' This function draws a card from a deck and puts it into a hand. It is\n",
    "meant to be part of the game Go Fish, so if the resulting hand has all four \n",
    "suits for a given card rank, those four cards are removed from the hand. \n",
    "Cards are identified by their rank and suit: the rank is one of the elements\n",
    "in the list [\"2\", \"3\", \"4\", \"5\", \"6\", \"7\", \"8\", \"9\", \"10\", \"J\", \"Q\", \"K\", \"A\"]\n",
    "and the suit is one of the elements of the list [\"spades\", \"hearts\", \"diamonds\", \"clubs\"].\n",
    "A deck is a list that initially contains 52 elements. Each element of the list\n",
    "is a tuple with two elements: the rank and the suit. So a single entry\n",
    "in the deck might be the tuple (\"K\", \"spades\"), which is the king of spades.\n",
    "A hand is a dictionary. In each element of the dictionary, the key is\n",
    "the rank and the value is a list that contains the names of the suits that the hand\n",
    "holds for that rank. E.g., if a hand as the 3 of spades and the 3 of hearts, and\n",
    "no other 3s, then the key \"3\" has the value [\"spades\", \"hearts\"]. A key should not\n",
    "have an empty list associated with it - if no cards of a given rank are held,\n",
    "no value exists for that key.'''\n",
    "# LEILANI DEBUG - import iPython to debug\n",
    "import IPython\n",
    "import random\n",
    "\n",
    "def getCard(deck):\n",
    "\n",
    "  ''' Randomly remove a single card from the deck and return it. Assumes that the deck \n",
    "      is not empty.\n",
    "      deck: A deck as described above\n",
    "      Returns: a single card, which is a tuple with two elements, the rank and the suit\n",
    "  '''\n",
    "\n",
    "  index = int (len(deck) * random.random())\n",
    "  newCard = deck[index]\n",
    "  del deck[index]\n",
    "  return newCard\n",
    "\n",
    "def drawCard(name, deck, hand):\n",
    "\n",
    "  ''' Draw a new card from the deck and add it to the hand. If the hand now holds the rank\n",
    "      in all four suits, then remove them from the hand.\n",
    "      name: A string with the name of the playerHand, used only for display purposes.\n",
    "      deck: A deck as described above\n",
    "      hand: A hand dictionary as described above\n",
    "      Returns: None.\n",
    "  '''\n",
    "\n",
    "  if len(deck) > 0: # protect against empty deck\n",
    "    newCard = getCard(deck)\n",
    "    cardRank = newCard[0]\n",
    "    cardSuit = newCard[1]\n",
    "\n",
    "    if cardRank in hand:\n",
    "      # append this suit to the result\n",
    "      hand[cardRank].append(cardSuit)\n",
    "      # LEILANI DEBUG - insert embed here since there is a problem\n",
    "      # embed()\n",
    "      # the length is not going to be 4... the length of the cardSuit will be 4\n",
    "      if len(hand[cardRank]) == 4:\n",
    "        print(name, \"lay down\", cardRank + \"s\")\n",
    "        del hand[cardRank]\n",
    "\n",
    "    else:\n",
    "      # first of this suit, create a list with one element\n",
    "      hand[cardRank] =  [ cardSuit ]"
   ]
  },
  {
   "cell_type": "code",
   "execution_count": 146,
   "id": "612f7bb5",
   "metadata": {},
   "outputs": [
    {
     "name": "stdout",
     "output_type": "stream",
     "text": [
      "True\n"
     ]
    }
   ],
   "source": [
    "print(test_1())"
   ]
  },
  {
   "cell_type": "code",
   "execution_count": 147,
   "id": "b173e967",
   "metadata": {},
   "outputs": [
    {
     "name": "stdout",
     "output_type": "stream",
     "text": [
      "Leilani lay down 2s\n",
      "True\n"
     ]
    }
   ],
   "source": [
    "print(test_2())"
   ]
  },
  {
   "cell_type": "code",
   "execution_count": 148,
   "id": "175b8444",
   "metadata": {},
   "outputs": [
    {
     "name": "stdout",
     "output_type": "stream",
     "text": [
      "Leilani lay down 5s\n",
      "Leilani lay down 4s\n",
      "Leilani lay down Js\n",
      "Leilani lay down 7s\n",
      "Leilani lay down 8s\n",
      "Leilani lay down 9s\n",
      "Leilani lay down Qs\n",
      "Leilani lay down Ks\n",
      "Leilani lay down 6s\n",
      "Leilani lay down 10s\n",
      "Leilani lay down As\n",
      "Leilani lay down 3s\n",
      "Leilani lay down 2s\n",
      "True\n"
     ]
    }
   ],
   "source": [
    "print(test_3())"
   ]
  },
  {
   "cell_type": "code",
   "execution_count": 149,
   "id": "f2285b55",
   "metadata": {},
   "outputs": [
    {
     "data": {
      "text/plain": [
       "' \\n    My first test was checking that cards were being drawn from the deck correctly. What I\\n    expected for this was for a card to end up in the hand and for that card to not be in the\\n    deck anymore, according to the getCard() function. To test this, I checked that the card in the\\n    hand was not in the deck list. If it was, then I returned False (indicating failure). \\n    Otherwise, I returned True. This was successful, so I moved on to my second test. \\n    \\n    My second test was to check that sets were being laid down once they were encountered in the\\n    hand and then removed from the hand. To test this, I made a deck that only included a set of 4\\n    cards of the same rank then invoked the drawCard() function 4 times to get all 4 of those cards\\n    in the hand. If the hand was not empty, then I returned False to indicate failure and printed\\n    the hand to verify. Otherwise, I returned True. When running this test, I encountered a failure.\\n    In order to debug this, I used the embed() function right before the line where I expected the \\n    set handling to occur. Once I got this running, I printed the hand to see what was currently \\n    drawn. At the moment, there were only 2 cards in the hand, which was expected at this point\\n    in the code. I decided to make sure the next line (which was important for handling a set) was\\n    as expected. The condition was to check if length of hand was 4. I printed out len(hand), and\\n    expected to get 2. When I got 1, I realized that the size of hand was 1 because it was a \\n    dictionary. Only one rank was in the hand, but 2 SUITS were in the hand. Therefore, I printed\\n    len(hand[cardRank]) to see if I got 2 as expected, since we had 2 SUITS. When I did this, I got\\n    2 as expected for the output. After this, I changed the code to incorporate this change and then\\n    ran test 1 and test 2 again and got True and saw that the line printed to indicate sets being \\n    laid out was on the console for the rank I put in the initial deck. After this, I moved on to \\n    the third test.\\n    \\n    My third test was to check test 2 but with a full deck and that ALL sets were laid out\\n    successfully - that the program was able to go through a full run through successfully. I invoked\\n    the drawCard() function 52 times and made sure the hand was empty after this. If this was not\\n    true, then I returned False to indicate failure. Otherwise, I returned True to indicate success.\\n    I got True and also saw that the line printed to indicate sets being laid out was on the console,\\n    so this helped me verify my bug fix worked.\\n'"
      ]
     },
     "execution_count": 149,
     "metadata": {},
     "output_type": "execute_result"
    }
   ],
   "source": [
    "''' \n",
    "    My first test was checking that cards were being drawn from the deck correctly. What I\n",
    "    expected for this was for a card to end up in the hand and for that card to not be in the\n",
    "    deck anymore, according to the getCard() function. To test this, I checked that the card in the\n",
    "    hand was not in the deck list. If it was, then I returned False (indicating failure). \n",
    "    Otherwise, I returned True. This was successful, so I moved on to my second test. \n",
    "    \n",
    "    My second test was to check that sets were being laid down once they were encountered in the\n",
    "    hand and then removed from the hand. To test this, I made a deck that only included a set of 4\n",
    "    cards of the same rank then invoked the drawCard() function 4 times to get all 4 of those cards\n",
    "    in the hand. If the hand was not empty, then I returned False to indicate failure and printed\n",
    "    the hand to verify. Otherwise, I returned True. When running this test, I encountered a failure.\n",
    "    In order to debug this, I used the embed() function right before the line where I expected the \n",
    "    set handling to occur. Once I got this running, I printed the hand to see what was currently \n",
    "    drawn. At the moment, there were only 2 cards in the hand, which was expected at this point\n",
    "    in the code. I decided to make sure the next line (which was important for handling a set) was\n",
    "    as expected. The condition was to check if length of hand was 4. I printed out len(hand), and\n",
    "    expected to get 2. When I got 1, I realized that the size of hand was 1 because it was a \n",
    "    dictionary. Only one rank was in the hand, but 2 SUITS were in the hand. Therefore, I printed\n",
    "    len(hand[cardRank]) to see if I got 2 as expected, since we had 2 SUITS. When I did this, I got\n",
    "    2 as expected for the output. After this, I changed the code to incorporate this change and then\n",
    "    ran test 1 and test 2 again and got True and saw that the line printed to indicate sets being \n",
    "    laid out was on the console for the rank I put in the initial deck. After this, I moved on to \n",
    "    the third test.\n",
    "    \n",
    "    My third test was to check test 2 but with a full deck and that ALL sets were laid out\n",
    "    successfully - that the program was able to go through a full run through successfully. I invoked\n",
    "    the drawCard() function 52 times and made sure the hand was empty after this. If this was not\n",
    "    true, then I returned False to indicate failure. Otherwise, I returned True to indicate success.\n",
    "    I got True and also saw that the line printed to indicate sets being laid out was on the console,\n",
    "    so this helped me verify my bug fix worked.\n",
    "'''"
   ]
  },
  {
   "cell_type": "code",
   "execution_count": null,
   "id": "f26fb4cb",
   "metadata": {},
   "outputs": [],
   "source": []
  }
 ],
 "metadata": {
  "kernelspec": {
   "display_name": "Python 3 (ipykernel)",
   "language": "python",
   "name": "python3"
  },
  "language_info": {
   "codemirror_mode": {
    "name": "ipython",
    "version": 3
   },
   "file_extension": ".py",
   "mimetype": "text/x-python",
   "name": "python",
   "nbconvert_exporter": "python",
   "pygments_lexer": "ipython3",
   "version": "3.9.10"
  }
 },
 "nbformat": 4,
 "nbformat_minor": 5
}
